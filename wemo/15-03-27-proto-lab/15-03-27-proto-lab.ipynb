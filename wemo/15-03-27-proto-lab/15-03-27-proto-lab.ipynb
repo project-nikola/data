{
 "cells": [
  {
   "cell_type": "markdown",
   "metadata": {},
   "source": [
    "# Prototyping Lab Weekend Data\n",
    "- sensors\n",
    "    + WeMo1: First MakerBot on Left\n",
    "    + WeMo2\n",
    "    + WeMo3: TV in Right room\n",
    "    + WeMo4\n",
    "    + WeMo5\n",
    "    + WeMo6: Coffee Machine outside of Frank's office\n"
   ]
  }
 ],
 "metadata": {
  "kernelspec": {
   "display_name": "Python 3",
   "language": "python",
   "name": "python3"
  },
  "language_info": {
   "codemirror_mode": {
    "name": "ipython",
    "version": 3
   },
   "file_extension": ".py",
   "mimetype": "text/x-python",
   "name": "python",
   "nbconvert_exporter": "python",
   "pygments_lexer": "ipython3",
   "version": "3.4.3"
  }
 },
 "nbformat": 4,
 "nbformat_minor": 0
}
