{
 "cells": [
  {
   "cell_type": "code",
   "execution_count": 2,
   "metadata": {
    "collapsed": false
   },
   "outputs": [],
   "source": [
    "import pandas as pd"
   ]
  },
  {
   "cell_type": "code",
   "execution_count": 18,
   "metadata": {
    "collapsed": false
   },
   "outputs": [],
   "source": [
    "columns = [\"time\", \"sensor_id\", \"current_power\"]\n",
    "path = \"15-2-27-wemo.csv\"\n",
    "dateparse = lambda x: pd.datetime.fromtimestamp(float(x))\n",
    "data = pd.read_csv(path, names=columns, parse_dates=[0], date_parser=dateparse)"
   ]
  },
  {
   "cell_type": "code",
   "execution_count": 19,
   "metadata": {
    "collapsed": false
   },
   "outputs": [
    {
     "data": {
      "text/html": [
       "<div style=\"max-height:1000px;max-width:1500px;overflow:auto;\">\n",
       "<table border=\"1\" class=\"dataframe\">\n",
       "  <thead>\n",
       "    <tr style=\"text-align: right;\">\n",
       "      <th></th>\n",
       "      <th>time</th>\n",
       "      <th>sensor_id</th>\n",
       "      <th>current_power</th>\n",
       "    </tr>\n",
       "  </thead>\n",
       "  <tbody>\n",
       "    <tr>\n",
       "      <th>0</th>\n",
       "      <td>2015-02-27 15:03:12.240000</td>\n",
       "      <td> WeMo5</td>\n",
       "      <td>      0</td>\n",
       "    </tr>\n",
       "    <tr>\n",
       "      <th>1</th>\n",
       "      <td>2015-02-27 15:03:12.269999</td>\n",
       "      <td> WeMo4</td>\n",
       "      <td>  25640</td>\n",
       "    </tr>\n",
       "    <tr>\n",
       "      <th>2</th>\n",
       "      <td>2015-02-27 15:03:12.339999</td>\n",
       "      <td> WeMo6</td>\n",
       "      <td>    360</td>\n",
       "    </tr>\n",
       "    <tr>\n",
       "      <th>3</th>\n",
       "      <td>2015-02-27 15:03:12.470000</td>\n",
       "      <td> WeMo1</td>\n",
       "      <td> 159335</td>\n",
       "    </tr>\n",
       "    <tr>\n",
       "      <th>4</th>\n",
       "      <td>2015-02-27 15:03:12.579999</td>\n",
       "      <td> WeMo3</td>\n",
       "      <td>      0</td>\n",
       "    </tr>\n",
       "  </tbody>\n",
       "</table>\n",
       "</div>"
      ],
      "text/plain": [
       "                        time sensor_id  current_power\n",
       "0 2015-02-27 15:03:12.240000     WeMo5              0\n",
       "1 2015-02-27 15:03:12.269999     WeMo4          25640\n",
       "2 2015-02-27 15:03:12.339999     WeMo6            360\n",
       "3 2015-02-27 15:03:12.470000     WeMo1         159335\n",
       "4 2015-02-27 15:03:12.579999     WeMo3              0"
      ]
     },
     "execution_count": 19,
     "metadata": {},
     "output_type": "execute_result"
    }
   ],
   "source": [
    "data.head()"
   ]
  },
  {
   "cell_type": "code",
   "execution_count": 21,
   "metadata": {
    "collapsed": false
   },
   "outputs": [],
   "source": [
    "nonzero_data = data[data.current_power != 0]"
   ]
  },
  {
   "cell_type": "markdown",
   "metadata": {},
   "source": []
  }
 ],
 "metadata": {
  "kernelspec": {
   "display_name": "Python 3",
   "language": "python",
   "name": "python3"
  },
  "language_info": {
   "codemirror_mode": {
    "name": "ipython",
    "version": 3
   },
   "file_extension": ".py",
   "mimetype": "text/x-python",
   "name": "python",
   "nbconvert_exporter": "python",
   "pygments_lexer": "ipython3",
   "version": "3.4.3"
  }
 },
 "nbformat": 4,
 "nbformat_minor": 0
}
